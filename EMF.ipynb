{
 "cells": [
  {
   "cell_type": "markdown",
   "id": "90f56490-268d-46a6-9fec-6078865ac86e",
   "metadata": {},
   "source": [
    "# Earth Magnetic Field Viewer\n",
    "\n",
    "The code presented here uses the International Geomagnetic Reference Field version 13 ([IGRF-13](https://www.ngdc.noaa.gov/IAGA/vmod/igrf.html)) to calculate the magnetic field elements to create a visualization of the Earth's magnetic field.\n",
    "\n",
    "For this code, we use the igrf_utils.py file from the [python package](https://www.ngdc.noaa.gov/IAGA/vmod/pyIGRF.zip).\n"
   ]
  },
  {
   "cell_type": "markdown",
   "id": "896c1dfa",
   "metadata": {},
   "source": [
    "## Magnetic Field Elements at a Point\n",
    "\n",
    "First we compute the magnetic field at a point (latitude, longitude and altitude). It is also necessary to know the date."
   ]
  },
  {
   "cell_type": "code",
   "execution_count": 1,
   "id": "8c5076a5-ef3f-4e52-b071-2a153cd81ca6",
   "metadata": {
    "tags": []
   },
   "outputs": [],
   "source": [
    "import numpy as np\n",
    "import igrf_utils as iut\n",
    "from scipy import interpolate"
   ]
  },
  {
   "cell_type": "code",
   "execution_count": 2,
   "id": "62a9e7f1",
   "metadata": {},
   "outputs": [],
   "source": [
    "# Load in the file of coefficients\n",
    "IGRF_FILE = r'./IGRF13.shc'\n",
    "igrf = iut.load_shcfile(IGRF_FILE, None)    # Load shc-file and return coefficient arrays"
   ]
  },
  {
   "cell_type": "code",
   "execution_count": 3,
   "id": "e8d3304e-aef3-43ba-8ccb-522291bbe65e",
   "metadata": {},
   "outputs": [],
   "source": [
    "date = 2023.1     # Date must be specified in decimal \n",
    "date = iut.check_float(date)\n",
    "alt = 100       # In km, geodetic (shape of Earth using the WGS-84 ellipsoid)\n",
    "alt = iut.check_float(alt)\n",
    "lat = 4.444     # lat must be within -90 to +90 degrees\n",
    "colat = 90-lat\n",
    "lon = -74.895   #  long must be within -180 to +180 degrees \n",
    "itype = 1\n",
    "alt, colat, sd, cd = iut.gg_to_geo(alt, colat)  # Compute geocentric colatitude and radius from geodetic colatitude and height"
   ]
  },
  {
   "cell_type": "code",
   "execution_count": 4,
   "id": "3c710591",
   "metadata": {},
   "outputs": [],
   "source": [
    "# Interpolate the geomagnetic coefficients to the desired date\n",
    "f = interpolate.interp1d(igrf.time, igrf.coeffs, fill_value='extrapolate')\n",
    "coeffs = f(date)"
   ]
  },
  {
   "cell_type": "code",
   "execution_count": 7,
   "id": "418f08a8",
   "metadata": {},
   "outputs": [
    {
     "name": "stdout",
     "output_type": "stream",
     "text": [
      "Magnetic field magnitude\n",
      " Radial: -12982.24901212288\n",
      " Colatitude: -25488.566114584504\n",
      " Azimuthal: -3325.673356781644\n"
     ]
    }
   ],
   "source": [
    "# Computes radial, colatitude and azimuthal field components from the magnetic potential field in terms of spherical harmonic coefficients.\n",
    "Br, Bt, Bp = iut.synth_values(coeffs.T, alt, colat, lon, igrf.parameters['nmax'])\n",
    "\n",
    "print(\"Magnetic field magnitude\")\n",
    "print(\" Radial:\", Br)\n",
    "print(\" Colatitude:\", Bt)\n",
    "print(\" Azimuthal:\", Bp)"
   ]
  },
  {
   "cell_type": "code",
   "execution_count": 6,
   "id": "ead97667",
   "metadata": {},
   "outputs": [],
   "source": [
    " # Rearrange to X, Y, Z components \n",
    "X = -Bt; Y = Bp; Z = -Br\n",
    "# Compute the four non-linear components \n",
    "dec, hoz, inc, eff = iut.xyz2dhif(X,Y,Z)    # Calculate D, H, I and F from (X, Y, Z)"
   ]
  },
  {
   "cell_type": "code",
   "execution_count": 9,
   "id": "97acf3cd",
   "metadata": {},
   "outputs": [
    {
     "name": "stdout",
     "output_type": "stream",
     "text": [
      "Field components\n",
      " Declination (D): -7.433790164624182 deg\n",
      " Inclination (I): 26.796297017276427 deg\n",
      " Horizontal intensity (H): 25704.612540428472 nT\n",
      " North component (X): 25488.566114584504 nT\n",
      " East component (Y): -3325.673356781644 nT\n",
      " Vertical component (Z): 12982.24901212288 nT\n",
      " Total intensity (F): 28796.977189738478 nT\n"
     ]
    }
   ],
   "source": [
    "print(\"Field components\")\n",
    "print(\" Declination (D):\", dec, \"deg\")\n",
    "print(\" Inclination (I):\", inc, \"deg\")\n",
    "print(\" Horizontal intensity (H):\", hoz, \"nT\")\n",
    "print(\" North component (X):\", X, \"nT\")\n",
    "print(\" East component (Y):\", Y, \"nT\")\n",
    "print(\" Vertical component (Z):\", Z, \"nT\")\n",
    "print(\" Total intensity (F):\", eff, \"nT\")"
   ]
  }
 ],
 "metadata": {
  "kernelspec": {
   "display_name": "Python 3 (ipykernel)",
   "language": "python",
   "name": "python3"
  },
  "language_info": {
   "codemirror_mode": {
    "name": "ipython",
    "version": 3
   },
   "file_extension": ".py",
   "mimetype": "text/x-python",
   "name": "python",
   "nbconvert_exporter": "python",
   "pygments_lexer": "ipython3",
   "version": "3.11.5"
  }
 },
 "nbformat": 4,
 "nbformat_minor": 5
}
